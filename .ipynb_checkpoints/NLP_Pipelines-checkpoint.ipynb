{
 "cells": [
  {
   "cell_type": "markdown",
   "metadata": {
    "id": "fHMxV1FvWxWX"
   },
   "source": [
    "Learning **NLP** (Natural Language Processing) using libraries from the **Hugging Face**"
   ]
  },
  {
   "cell_type": "markdown",
   "metadata": {
    "id": "Sm9YALswWyuk"
   },
   "source": [
    "# 1. What is NLP?"
   ]
  },
  {
   "cell_type": "markdown",
   "metadata": {
    "id": "VzBUjzonW09U"
   },
   "source": [
    "**Definition**: NLP is a field of linguistics and machine learning focused on understanding everything related to human language.\n",
    "\n",
    "Common NLP tasks:\n",
    "1. Classifying whole sentences\n",
    "    -Getting the sentiment of a review, \n",
    "    -detecting if an email is spam, \n",
    "    -determining if a sentence is grammatically correct or whether two sentences are logically related or not\n",
    "2. Classifying each word in a sentence\n",
    "    -Identifying the grammatical components of a sentence (noun, verb, adjective),\n",
    "    -Identifying the named entities (person, location, organization)\n",
    "3. Generating text content\n",
    "    -Completing a prompt with auto-generated text, \n",
    "    -filling in the blanks in a text with masked words\n",
    "4. Extracting an answer from a text\n",
    "    -Given a question and a context, extracting the answer to the question based on the information provided in the    context\n",
    "5. Generating a new sentence from an input text\n",
    "    -Translating a text into another language, \n",
    "    -summarizing a text"
   ]
  },
  {
   "cell_type": "markdown",
   "metadata": {
    "id": "pZAkVLrWW5fG"
   },
   "source": [
    "# 2.Transformers"
   ]
  },
  {
   "cell_type": "markdown",
   "metadata": {
    "id": "endhd7EXW73J"
   },
   "source": [
    "**Transformers** provide the functionality to create and use pretrained models for each of the discussed tasks above\n",
    "\n",
    "**Pipeline**: The most basic object in the Hugging Face Transformers library is the pipeline() function. It *connects a model* with its *necessary preprocessing and postprocessing steps*, allowing us to *directly input any text and get an intelligible answer*.\n",
    "\n",
    "\n",
    "There are three main steps involved when you pass some text to a pipeline:\n",
    "\n",
    "1. The text is preprocessed into a format the model can understand.\n",
    "2. The preprocessed inputs are passed to the model.\n",
    "3. The predictions of the model are post-processed, so you can make sense of them."
   ]
  },
  {
   "cell_type": "markdown",
   "metadata": {
    "id": "ngR0NqhxXAE7"
   },
   "source": [
    "**Pipeline for Sentiment analysis**"
   ]
  },
  {
   "cell_type": "code",
   "execution_count": null,
   "metadata": {
    "id": "mEvnqkEmUvj5"
   },
   "outputs": [],
   "source": [
    "!pip install transformers -q"
   ]
  },
  {
   "cell_type": "code",
   "execution_count": null,
   "metadata": {
    "id": "gbN8yo24U1q_"
   },
   "outputs": [],
   "source": [
    "import transformers\n",
    "from transformers import pipeline"
   ]
  },
  {
   "cell_type": "code",
   "execution_count": null,
   "metadata": {
    "colab": {
     "base_uri": "https://localhost:8080/"
    },
    "id": "jxJYNpAoU7fp",
    "outputId": "b1012fae-bac1-4692-f53b-93831449e3bb"
   },
   "outputs": [],
   "source": [
    "classifier = pipeline(\"sentiment-analysis\")\n",
    "text_neg = [\"I hate this so much!\"]\n",
    "text_pos = [\"I've been waiting for a HuggingFace course my whole life.\"]\n",
    "print(classifier(text_neg))\n",
    "print(classifier(text_pos))"
   ]
  },
  {
   "cell_type": "markdown",
   "metadata": {
    "id": "xFG-rlVKaSG9"
   },
   "source": [
    "**Zero-shot classification**\n",
    "\n",
    "It iis used for classifying texts that haven’t been labelled. \n",
    "This is a common scenario in real-world projects.\n",
    "The **zero-shot-classification** pipeline is very powerful: it allows you to specify which labels to use for the classification, so you don’t have to rely on the labels of the pretrained model.\n",
    "\n",
    "This pipeline is called zero-shot because you don’t need to fine-tune the model on your data to use it. It can directly return probability scores for any list of labels you want!\n",
    "\n",
    "Example:"
   ]
  },
  {
   "cell_type": "code",
   "execution_count": null,
   "metadata": {
    "colab": {
     "base_uri": "https://localhost:8080/"
    },
    "id": "vf910IEWaQoe",
    "outputId": "5d22ace5-96f2-4549-9fde-92a60fecda7e"
   },
   "outputs": [],
   "source": [
    "classifierZ = pipeline(\"zero-shot-classification\")\n",
    "classifierZ(\"This is a course about the Transformers library\", \n",
    "            candidate_labels = [\"education\", \"politics\", \"business\"])"
   ]
  },
  {
   "cell_type": "markdown",
   "metadata": {
    "id": "-x8DXR7AbuHz"
   },
   "source": [
    "**Text generation**\n",
    "\n",
    "The main idea here is that you provide a prompt and the model will auto-complete it by generating the remaining text. \n",
    "\n",
    "Text generation involves randomness, so it’s normal if you don’t get the same results as shown below."
   ]
  },
  {
   "cell_type": "code",
   "execution_count": null,
   "metadata": {
    "colab": {
     "base_uri": "https://localhost:8080/"
    },
    "id": "MFmfT3m7bgYM",
    "outputId": "84806ab6-5d09-48b8-b05f-d5add7c3b0a3"
   },
   "outputs": [],
   "source": [
    "generator = pipeline(\"text-generation\")\n",
    "generator(\"In this course, we will teach you how to\", num_return_sequences = 2, max_length = 15)"
   ]
  },
  {
   "cell_type": "markdown",
   "metadata": {
    "id": "CJMBi7yJcg2z"
   },
   "source": [
    "**Using pretrained model in a pipeline**"
   ]
  },
  {
   "cell_type": "code",
   "execution_count": null,
   "metadata": {
    "colab": {
     "base_uri": "https://localhost:8080/"
    },
    "id": "Y1rx43o5b-3L",
    "outputId": "7e61702c-ee24-45bb-81f6-8b857e7c4a77"
   },
   "outputs": [],
   "source": [
    "generatorM = pipeline(\"text-generation\", model = \"distilgpt2\")\n",
    "generatorM(\"In this course, we will teach you how to\", \n",
    "           num_return_sequences = 2, \n",
    "           max_length = 15)"
   ]
  },
  {
   "cell_type": "markdown",
   "metadata": {
    "id": "rL6BgOKqdhEe"
   },
   "source": [
    "**Mask filling**"
   ]
  },
  {
   "cell_type": "code",
   "execution_count": null,
   "metadata": {
    "colab": {
     "base_uri": "https://localhost:8080/"
    },
    "id": "Yl6_N9h3cuGq",
    "outputId": "3d76f446-b69d-4842-c5b0-69f6ff6b19ed"
   },
   "outputs": [],
   "source": [
    "unmasker = pipeline(\"fill-mask\")\n",
    "unmasker(\"This course will teach you all about <mask> models.\", top_k=2)"
   ]
  },
  {
   "cell_type": "markdown",
   "metadata": {
    "id": "srjY_AFTd6Ln"
   },
   "source": [
    "**Named entity recognition**"
   ]
  },
  {
   "cell_type": "code",
   "execution_count": null,
   "metadata": {
    "id": "y5-F7HIndmZp"
   },
   "outputs": [],
   "source": [
    "ner = pipeline(\"ner\", grouped_entities=True)\n",
    "ner(\"My name is Sylvain and I work at Hugging Face in Brooklyn.\")"
   ]
  },
  {
   "cell_type": "markdown",
   "metadata": {
    "id": "qq8XmInAeSJ5"
   },
   "source": [
    "**Question answering**"
   ]
  },
  {
   "cell_type": "code",
   "execution_count": null,
   "metadata": {
    "colab": {
     "base_uri": "https://localhost:8080/"
    },
    "id": "U04qiTFUd9E7",
    "outputId": "79209693-66c7-413e-e986-331536d9788a"
   },
   "outputs": [],
   "source": [
    "question_answerer = pipeline(\"question-answering\")\n",
    "question_answerer(\n",
    "    question=\"Where do I work?\",\n",
    "    context=\"My name is Sylvain and I work at Hugging Face in Brooklyn\",\n",
    ")"
   ]
  },
  {
   "cell_type": "markdown",
   "metadata": {
    "id": "hTcwSvgJeeoi"
   },
   "source": [
    "**Summarization**"
   ]
  },
  {
   "cell_type": "code",
   "execution_count": null,
   "metadata": {
    "colab": {
     "base_uri": "https://localhost:8080/"
    },
    "id": "WWxKoWJoeXii",
    "outputId": "f9fb1b29-fa63-4934-f698-cc19b20d6ca8"
   },
   "outputs": [],
   "source": [
    "summarizer = pipeline(\"summarization\")\n",
    "summarizer(\n",
    "    \"\"\"\n",
    "    America has changed dramatically during recent years. Not only has the number of \n",
    "    graduates in traditional engineering disciplines such as mechanical, civil, \n",
    "    electrical, chemical, and aeronautical engineering declined, but in most of \n",
    "    the premier American universities engineering curricula now concentrate on \n",
    "    and encourage largely the study of engineering science. As a result, there \n",
    "    are declining offerings in engineering subjects dealing with infrastructure, \n",
    "    the environment, and related issues, and greater concentration on high \n",
    "    technology subjects, largely supporting increasingly complex scientific \n",
    "    developments. While the latter is important, it should not be at the expense \n",
    "    of more traditional engineering.\n",
    "\n",
    "    Rapidly developing economies such as China and India, as well as other \n",
    "    industrial countries in Europe and Asia, continue to encourage and advance \n",
    "    the teaching of engineering. Both China and India, respectively, graduate \n",
    "    six and eight times as many traditional engineers as does the United States. \n",
    "    Other industrial countries at minimum maintain their output, while America \n",
    "    suffers an increasingly serious decline in the number of engineering graduates \n",
    "    and a lack of well-educated engineers.\n",
    "\"\"\",\n",
    "max_length = 150,\n",
    "min_length = 50\n",
    ")"
   ]
  },
  {
   "cell_type": "markdown",
   "metadata": {
    "id": "wGH6JL9Leo6k"
   },
   "source": [
    "**Translation**"
   ]
  },
  {
   "cell_type": "code",
   "execution_count": null,
   "metadata": {
    "id": "z0oDeB93ei7b"
   },
   "outputs": [],
   "source": [
    "translator = pipeline(\"translation_en_to_de\")\n",
    "translator(\"Hi, my name is Nazi.\")"
   ]
  },
  {
   "cell_type": "code",
   "execution_count": null,
   "metadata": {
    "id": "VwKMtBztesTT"
   },
   "outputs": [],
   "source": []
  }
 ],
 "metadata": {
  "colab": {
   "provenance": []
  },
  "kernelspec": {
   "display_name": "Python 3 (ipykernel)",
   "language": "python",
   "name": "python3"
  },
  "language_info": {
   "codemirror_mode": {
    "name": "ipython",
    "version": 3
   },
   "file_extension": ".py",
   "mimetype": "text/x-python",
   "name": "python",
   "nbconvert_exporter": "python",
   "pygments_lexer": "ipython3",
   "version": "3.8.13"
  }
 },
 "nbformat": 4,
 "nbformat_minor": 1
}
