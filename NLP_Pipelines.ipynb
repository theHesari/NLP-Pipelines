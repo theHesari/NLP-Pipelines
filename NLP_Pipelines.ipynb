{
  "nbformat": 4,
  "nbformat_minor": 0,
  "metadata": {
    "colab": {
      "provenance": []
    },
    "kernelspec": {
      "name": "python3",
      "display_name": "Python 3"
    },
    "language_info": {
      "name": "python"
    }
  },
  "cells": [
    {
      "cell_type": "markdown",
      "source": [
        "Learning **NLP** (Natural Language Processing) using libraries from the **Hugging Face**"
      ],
      "metadata": {
        "id": "fHMxV1FvWxWX"
      }
    },
    {
      "cell_type": "markdown",
      "source": [
        "# 1. What is NLP?"
      ],
      "metadata": {
        "id": "Sm9YALswWyuk"
      }
    },
    {
      "cell_type": "markdown",
      "source": [
        "**Definition**: NLP is a field of linguistics and machine learning focused on understanding everything related to human language.\n",
        "\n",
        "Common NLP tasks:\n",
        "1. Classifying whole sentences\n",
        "    -Getting the sentiment of a review, \n",
        "    -detecting if an email is spam, \n",
        "    -determining if a sentence is grammatically correct or whether two sentences are logically related or not\n",
        "2. Classifying each word in a sentence\n",
        "    -Identifying the grammatical components of a sentence (noun, verb, adjective),\n",
        "    -Identifying the named entities (person, location, organization)\n",
        "3. Generating text content\n",
        "    -Completing a prompt with auto-generated text, \n",
        "    -filling in the blanks in a text with masked words\n",
        "4. Extracting an answer from a text\n",
        "    -Given a question and a context, extracting the answer to the question based on the information provided in the    context\n",
        "5. Generating a new sentence from an input text\n",
        "    -Translating a text into another language, \n",
        "    -summarizing a text"
      ],
      "metadata": {
        "id": "VzBUjzonW09U"
      }
    },
    {
      "cell_type": "markdown",
      "source": [
        "# 2.Transformers"
      ],
      "metadata": {
        "id": "pZAkVLrWW5fG"
      }
    },
    {
      "cell_type": "markdown",
      "source": [
        "**Transformers** provide the functionality to create and use pretrained models for each of the discussed tasks above\n",
        "\n",
        "**Pipeline**: The most basic object in the Hugging Face Transformers library is the pipeline() function. It *connects a model* with its *necessary preprocessing and postprocessing steps*, allowing us to *directly input any text and get an intelligible answer*.\n",
        "\n",
        "\n",
        "There are three main steps involved when you pass some text to a pipeline:\n",
        "\n",
        "1. The text is preprocessed into a format the model can understand.\n",
        "2. The preprocessed inputs are passed to the model.\n",
        "3. The predictions of the model are post-processed, so you can make sense of them."
      ],
      "metadata": {
        "id": "endhd7EXW73J"
      }
    },
    {
      "cell_type": "markdown",
      "source": [
        "**Pipeline for Sentiment analysis**"
      ],
      "metadata": {
        "id": "ngR0NqhxXAE7"
      }
    },
    {
      "cell_type": "code",
      "execution_count": null,
      "metadata": {
        "id": "mEvnqkEmUvj5"
      },
      "outputs": [],
      "source": [
        "!pip install transformers -q"
      ]
    },
    {
      "cell_type": "code",
      "source": [
        "import transformers\n",
        "from transformers import pipeline"
      ],
      "metadata": {
        "id": "gbN8yo24U1q_"
      },
      "execution_count": null,
      "outputs": []
    },
    {
      "cell_type": "code",
      "source": [
        "classifier = pipeline(\"sentiment-analysis\")\n",
        "text_neg = [\"I hate this so much!\"]\n",
        "text_pos = [\"I've been waiting for a HuggingFace course my whole life.\"]\n",
        "print(classifier(text_neg))\n",
        "print(classifier(text_pos))"
      ],
      "metadata": {
        "colab": {
          "base_uri": "https://localhost:8080/"
        },
        "id": "jxJYNpAoU7fp",
        "outputId": "b1012fae-bac1-4692-f53b-93831449e3bb"
      },
      "execution_count": null,
      "outputs": [
        {
          "output_type": "stream",
          "name": "stderr",
          "text": [
            "No model was supplied, defaulted to distilbert-base-uncased-finetuned-sst-2-english and revision af0f99b (https://huggingface.co/distilbert-base-uncased-finetuned-sst-2-english).\n",
            "Using a pipeline without specifying a model name and revision in production is not recommended.\n"
          ]
        },
        {
          "output_type": "stream",
          "name": "stdout",
          "text": [
            "[{'label': 'NEGATIVE', 'score': 0.9994558691978455}]\n",
            "[{'label': 'POSITIVE', 'score': 0.9598048329353333}]\n"
          ]
        }
      ]
    },
    {
      "cell_type": "markdown",
      "source": [
        "**Zero-shot classification**\n",
        "\n",
        "It iis used for classifying texts that haven’t been labelled. \n",
        "This is a common scenario in real-world projects.\n",
        "The **zero-shot-classification** pipeline is very powerful: it allows you to specify which labels to use for the classification, so you don’t have to rely on the labels of the pretrained model.\n",
        "\n",
        "This pipeline is called zero-shot because you don’t need to fine-tune the model on your data to use it. It can directly return probability scores for any list of labels you want!\n",
        "\n",
        "Example:"
      ],
      "metadata": {
        "id": "xFG-rlVKaSG9"
      }
    },
    {
      "cell_type": "code",
      "source": [
        "classifierZ = pipeline(\"zero-shot-classification\")\n",
        "classifierZ(\"This is a course about the Transformers library\", \n",
        "            candidate_labels = [\"education\", \"politics\", \"business\"])"
      ],
      "metadata": {
        "colab": {
          "base_uri": "https://localhost:8080/"
        },
        "id": "vf910IEWaQoe",
        "outputId": "5d22ace5-96f2-4549-9fde-92a60fecda7e"
      },
      "execution_count": null,
      "outputs": [
        {
          "output_type": "stream",
          "name": "stderr",
          "text": [
            "No model was supplied, defaulted to facebook/bart-large-mnli and revision c626438 (https://huggingface.co/facebook/bart-large-mnli).\n",
            "Using a pipeline without specifying a model name and revision in production is not recommended.\n"
          ]
        }
      ]
    },
    {
      "cell_type": "markdown",
      "source": [
        "**Text generation**\n",
        "\n",
        "The main idea here is that you provide a prompt and the model will auto-complete it by generating the remaining text. \n",
        "\n",
        "Text generation involves randomness, so it’s normal if you don’t get the same results as shown below."
      ],
      "metadata": {
        "id": "-x8DXR7AbuHz"
      }
    },
    {
      "cell_type": "code",
      "source": [
        "generator = pipeline(\"text-generation\")\n",
        "generator(\"In this course, we will teach you how to\", num_return_sequences = 2, max_length = 15)"
      ],
      "metadata": {
        "colab": {
          "base_uri": "https://localhost:8080/"
        },
        "id": "MFmfT3m7bgYM",
        "outputId": "84806ab6-5d09-48b8-b05f-d5add7c3b0a3"
      },
      "execution_count": null,
      "outputs": [
        {
          "output_type": "stream",
          "name": "stderr",
          "text": [
            "No model was supplied, defaulted to gpt2 and revision 6c0e608 (https://huggingface.co/gpt2).\n",
            "Using a pipeline without specifying a model name and revision in production is not recommended.\n",
            "/usr/local/lib/python3.9/dist-packages/transformers/generation/utils.py:1219: UserWarning: You have modified the pretrained model configuration to control generation. This is a deprecated strategy to control generation and will be removed soon, in a future version. Please use a generation configuration file (see https://huggingface.co/docs/transformers/main_classes/text_generation)\n",
            "  warnings.warn(\n",
            "Setting `pad_token_id` to `eos_token_id`:50256 for open-end generation.\n"
          ]
        },
        {
          "output_type": "execute_result",
          "data": {
            "text/plain": [
              "[{'generated_text': 'In this course, we will teach you how to create, process, and'},\n",
              " {'generated_text': 'In this course, we will teach you how to identify and understand your unique'}]"
            ]
          },
          "metadata": {},
          "execution_count": 11
        }
      ]
    },
    {
      "cell_type": "markdown",
      "source": [
        "**Using pretrained model in a pipeline**"
      ],
      "metadata": {
        "id": "CJMBi7yJcg2z"
      }
    },
    {
      "cell_type": "code",
      "source": [
        "generatorM = pipeline(\"text-generation\", model = \"distilgpt2\")\n",
        "generatorM(\"In this course, we will teach you how to\", \n",
        "           num_return_sequences = 2, \n",
        "           max_length = 15)"
      ],
      "metadata": {
        "colab": {
          "base_uri": "https://localhost:8080/"
        },
        "id": "Y1rx43o5b-3L",
        "outputId": "7e61702c-ee24-45bb-81f6-8b857e7c4a77"
      },
      "execution_count": null,
      "outputs": [
        {
          "output_type": "stream",
          "name": "stderr",
          "text": [
            "Setting `pad_token_id` to `eos_token_id`:50256 for open-end generation.\n"
          ]
        },
        {
          "output_type": "execute_result",
          "data": {
            "text/plain": [
              "[{'generated_text': 'In this course, we will teach you how to build a single object and'},\n",
              " {'generated_text': 'In this course, we will teach you how to build custom custom tools and'}]"
            ]
          },
          "metadata": {},
          "execution_count": 13
        }
      ]
    },
    {
      "cell_type": "markdown",
      "source": [
        "**Mask filling**"
      ],
      "metadata": {
        "id": "rL6BgOKqdhEe"
      }
    },
    {
      "cell_type": "code",
      "source": [
        "unmasker = pipeline(\"fill-mask\")\n",
        "unmasker(\"This course will teach you all about <mask> models.\", top_k=2)"
      ],
      "metadata": {
        "colab": {
          "base_uri": "https://localhost:8080/"
        },
        "id": "Yl6_N9h3cuGq",
        "outputId": "3d76f446-b69d-4842-c5b0-69f6ff6b19ed"
      },
      "execution_count": null,
      "outputs": [
        {
          "output_type": "stream",
          "name": "stderr",
          "text": [
            "No model was supplied, defaulted to distilroberta-base and revision ec58a5b (https://huggingface.co/distilroberta-base).\n",
            "Using a pipeline without specifying a model name and revision in production is not recommended.\n"
          ]
        },
        {
          "output_type": "execute_result",
          "data": {
            "text/plain": [
              "[{'score': 0.19619806110858917,\n",
              "  'token': 30412,\n",
              "  'token_str': ' mathematical',\n",
              "  'sequence': 'This course will teach you all about mathematical models.'},\n",
              " {'score': 0.04052723944187164,\n",
              "  'token': 38163,\n",
              "  'token_str': ' computational',\n",
              "  'sequence': 'This course will teach you all about computational models.'}]"
            ]
          },
          "metadata": {},
          "execution_count": 15
        }
      ]
    },
    {
      "cell_type": "markdown",
      "source": [
        "**Named entity recognition**"
      ],
      "metadata": {
        "id": "srjY_AFTd6Ln"
      }
    },
    {
      "cell_type": "code",
      "source": [
        "ner = pipeline(\"ner\", grouped_entities=True)\n",
        "ner(\"My name is Sylvain and I work at Hugging Face in Brooklyn.\")"
      ],
      "metadata": {
        "id": "y5-F7HIndmZp"
      },
      "execution_count": null,
      "outputs": []
    },
    {
      "cell_type": "markdown",
      "source": [
        "**Question answering**"
      ],
      "metadata": {
        "id": "qq8XmInAeSJ5"
      }
    },
    {
      "cell_type": "code",
      "source": [
        "question_answerer = pipeline(\"question-answering\")\n",
        "question_answerer(\n",
        "    question=\"Where do I work?\",\n",
        "    context=\"My name is Sylvain and I work at Hugging Face in Brooklyn\",\n",
        ")"
      ],
      "metadata": {
        "colab": {
          "base_uri": "https://localhost:8080/"
        },
        "id": "U04qiTFUd9E7",
        "outputId": "79209693-66c7-413e-e986-331536d9788a"
      },
      "execution_count": null,
      "outputs": [
        {
          "output_type": "stream",
          "name": "stderr",
          "text": [
            "No model was supplied, defaulted to distilbert-base-cased-distilled-squad and revision 626af31 (https://huggingface.co/distilbert-base-cased-distilled-squad).\n",
            "Using a pipeline without specifying a model name and revision in production is not recommended.\n"
          ]
        },
        {
          "output_type": "execute_result",
          "data": {
            "text/plain": [
              "{'score': 0.6949767470359802, 'start': 33, 'end': 45, 'answer': 'Hugging Face'}"
            ]
          },
          "metadata": {},
          "execution_count": 18
        }
      ]
    },
    {
      "cell_type": "markdown",
      "source": [
        "**Summarization**"
      ],
      "metadata": {
        "id": "hTcwSvgJeeoi"
      }
    },
    {
      "cell_type": "code",
      "source": [
        "summarizer = pipeline(\"summarization\")\n",
        "summarizer(\n",
        "    \"\"\"\n",
        "    America has changed dramatically during recent years. Not only has the number of \n",
        "    graduates in traditional engineering disciplines such as mechanical, civil, \n",
        "    electrical, chemical, and aeronautical engineering declined, but in most of \n",
        "    the premier American universities engineering curricula now concentrate on \n",
        "    and encourage largely the study of engineering science. As a result, there \n",
        "    are declining offerings in engineering subjects dealing with infrastructure, \n",
        "    the environment, and related issues, and greater concentration on high \n",
        "    technology subjects, largely supporting increasingly complex scientific \n",
        "    developments. While the latter is important, it should not be at the expense \n",
        "    of more traditional engineering.\n",
        "\n",
        "    Rapidly developing economies such as China and India, as well as other \n",
        "    industrial countries in Europe and Asia, continue to encourage and advance \n",
        "    the teaching of engineering. Both China and India, respectively, graduate \n",
        "    six and eight times as many traditional engineers as does the United States. \n",
        "    Other industrial countries at minimum maintain their output, while America \n",
        "    suffers an increasingly serious decline in the number of engineering graduates \n",
        "    and a lack of well-educated engineers.\n",
        "\"\"\",\n",
        "max_length = 150,\n",
        "min_length = 50\n",
        ")"
      ],
      "metadata": {
        "colab": {
          "base_uri": "https://localhost:8080/"
        },
        "id": "WWxKoWJoeXii",
        "outputId": "f9fb1b29-fa63-4934-f698-cc19b20d6ca8"
      },
      "execution_count": null,
      "outputs": [
        {
          "output_type": "stream",
          "name": "stderr",
          "text": [
            "No model was supplied, defaulted to sshleifer/distilbart-cnn-12-6 and revision a4f8f3e (https://huggingface.co/sshleifer/distilbart-cnn-12-6).\n",
            "Using a pipeline without specifying a model name and revision in production is not recommended.\n"
          ]
        },
        {
          "output_type": "execute_result",
          "data": {
            "text/plain": [
              "[{'summary_text': ' America has changed dramatically during recent years . The number of engineering graduates in the U.S. has declined in traditional engineering disciplines such as mechanical, civil,    electrical, chemical, and aeronautical engineering . Rapidly developing economies such as China and India continue to encourage and advance the teaching of engineering .'}]"
            ]
          },
          "metadata": {},
          "execution_count": 21
        }
      ]
    },
    {
      "cell_type": "markdown",
      "source": [
        "**Translation**"
      ],
      "metadata": {
        "id": "wGH6JL9Leo6k"
      }
    },
    {
      "cell_type": "code",
      "source": [
        "translator = pipeline(\"translation_en_to_de\")\n",
        "translator(\"Hi, my name is Nazi.\")"
      ],
      "metadata": {
        "id": "z0oDeB93ei7b"
      },
      "execution_count": null,
      "outputs": []
    },
    {
      "cell_type": "code",
      "source": [],
      "metadata": {
        "id": "VwKMtBztesTT"
      },
      "execution_count": null,
      "outputs": []
    }
  ]
}